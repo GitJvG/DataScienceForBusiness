{
 "cells": [
  {
   "cell_type": "code",
   "execution_count": 2,
   "metadata": {},
   "outputs": [
    {
     "name": "stdout",
     "output_type": "stream",
     "text": [
      "   4141  1965  Graduation  Together    71613  0  0.1  21-08-2013  26  426  \\\n",
      "0  6182  1984  Graduation  Together  26646.0  1    0  10-02-2014  26   11   \n",
      "1  5324  1981         PhD   Married  58293.0  1    0  19-01-2014  94  173   \n",
      "2  7446  1967      Master  Together  62513.0  0    1  09-09-2013  16  520   \n",
      "3   965  1971  Graduation  Divorced  55635.0  0    1  13-11-2012  34  235   \n",
      "4  6177  1985         PhD   Married  33454.0  1    0  08-05-2013  32   76   \n",
      "\n",
      "   ...  4  0.2  0.3  0.4  0.5  0.6  0.7  3  11  0.8  \n",
      "0  ...  6    0    0    0    0    0    0  3  11    0  \n",
      "1  ...  5    0    0    0    0    0    0  3  11    0  \n",
      "2  ...  6    0    0    0    0    0    0  3  11    0  \n",
      "3  ...  6    0    0    0    0    0    0  3  11    0  \n",
      "4  ...  8    0    0    0    0    0    0  3  11    0  \n",
      "\n",
      "[5 rows x 29 columns]\n"
     ]
    }
   ],
   "source": [
    "import pandas as pd\n",
    "\n",
    "df = pd.read_csv(\"marketing_campaign.csv\",sep='\\t',skiprows=(0,1,2),header=(0))\n",
    "print(df.head())"
   ]
  }
 ],
 "metadata": {
  "kernelspec": {
   "display_name": "Python 3",
   "language": "python",
   "name": "python3"
  },
  "language_info": {
   "codemirror_mode": {
    "name": "ipython",
    "version": 3
   },
   "file_extension": ".py",
   "mimetype": "text/x-python",
   "name": "python",
   "nbconvert_exporter": "python",
   "pygments_lexer": "ipython3",
   "version": "3.10.14"
  }
 },
 "nbformat": 4,
 "nbformat_minor": 2
}
